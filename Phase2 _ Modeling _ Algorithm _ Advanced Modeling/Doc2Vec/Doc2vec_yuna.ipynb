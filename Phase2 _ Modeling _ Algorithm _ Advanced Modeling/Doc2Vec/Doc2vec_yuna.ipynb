{
  "nbformat": 4,
  "nbformat_minor": 0,
  "metadata": {
    "colab": {
      "name": "Doc2vec_yuna.ipynb",
      "provenance": []
    },
    "kernelspec": {
      "name": "python3",
      "display_name": "Python 3"
    }
  },
  "cells": [
    {
      "cell_type": "code",
      "metadata": {
        "id": "olhVbs3Kcilo",
        "colab_type": "code",
        "colab": {}
      },
      "source": [
        "import time\n",
        "import os\n",
        "import pickle\n",
        "import pandas as pd\n",
        "import warnings\n",
        "import numpy as np\n",
        "import seaborn as sns\n",
        "from soynlp.tokenizer import RegexTokenizer, LTokenizer, MaxScoreTokenizer\n",
        "from gensim.models.doc2vec import Doc2Vec, TaggedDocument\n",
        "\n",
        "warnings.filterwarnings(\"ignore\")\n",
        "# os.chdir(\"D:\\\\workspace\\\\tutorial\\\\Pro_KPS_Unsturctured\\\\DATA\")\n",
        "\n",
        "# with open('2018.pickle' , 'rb') as f:\n",
        "#     data = pickle.load(f)"
      ],
      "execution_count": 0,
      "outputs": []
    },
    {
      "cell_type": "code",
      "metadata": {
        "id": "hp2bjcInclhr",
        "colab_type": "code",
        "colab": {}
      },
      "source": [
        "from google.colab import drive\n",
        "drive.mount('/content/drive')"
      ],
      "execution_count": 0,
      "outputs": []
    },
    {
      "cell_type": "code",
      "metadata": {
        "id": "pWTJOBPIclem",
        "colab_type": "code",
        "colab": {}
      },
      "source": [
        "# 경로 설정\n",
        "\n",
        "cd/content/drive/My Drive/tobigs_chatbot/"
      ],
      "execution_count": 0,
      "outputs": []
    },
    {
      "cell_type": "code",
      "metadata": {
        "id": "Di7-owVKcq2A",
        "colab_type": "code",
        "colab": {}
      },
      "source": [
        "# Load model\n",
        "\n",
        "doc_vectorizer = Doc2Vec.load(model_name)\n",
        "\n",
        "import numpy as np\n",
        "X = np.array([doc_vectorizer.infer_vector(doc.words) for doc in tagged_train_docs])\n",
        "y = np.array([int(doc.tags) for doc in tagged_train_docs])\n",
        "\n",
        "with open('all_Doc2vec_matrix.pickle','wb') as f:\n",
        "    pickle.dump(X, f, pickle.HIGHEST_PROTOCOL)"
      ],
      "execution_count": 0,
      "outputs": []
    },
    {
      "cell_type": "code",
      "metadata": {
        "id": "6ApiCqvictYa",
        "colab_type": "code",
        "colab": {}
      },
      "source": [
        "import numpy as np\n",
        "\n",
        "X= np.load('./Doc2Vec_Embedding.npy') # 불러오기 "
      ],
      "execution_count": 0,
      "outputs": []
    },
    {
      "cell_type": "code",
      "metadata": {
        "id": "hHP3qRV4ccjc",
        "colab_type": "code",
        "colab": {}
      },
      "source": [
        "def QnA(x):\n",
        "\n",
        "  Question = input('질문을 입력하세요.')\n",
        "\n",
        "  # 코사인 유사도 몇 이상인 것만 가져와라 \n",
        "  def condition_sorting(x, thresh):\n",
        "      idx = np.arange(x.size)[x > thresh]\n",
        "      return idx[np.argsort(x[idx])] \n",
        "\n",
        "  # 코사인 유사도 높은 순 index 추출 \n",
        "  def calculate_cos(matrix, target):\n",
        "      target_array = doc_vectorizer.infer_vector(target)\n",
        "      innerproduct = matrix.dot(target_array)\n",
        "      norm = np.linalg.norm(matrix, axis = 1) * np.linalg.norm(target_array)\n",
        "      cos = innerproduct / norm # 코사인 유사도 계산 \n",
        "      index = condition_sorting(cos, 0.4)[::-1][:200] # 유사도 0.4이상인 것 \n",
        "      return index\n",
        "  \n",
        "  # # khaii 설정 \n",
        "  # !git clone https://github.com/kakao/khaiii.git\n",
        "  # !pip install cmake\n",
        "  # !mkdir build\n",
        "  # !cd build && cmake /content/khaiii\n",
        "  # !cd /content/build/ && make all\n",
        "  # !cd /content/build/ && make resource\n",
        "  # !cd /content/build && make install\n",
        "  # !cd /content/build && make package_python\n",
        "  # !pip install /content/build/package_python\n",
        " \n",
        "  # khaii 엮기 \n",
        "  from khaiii import KhaiiiApi\n",
        "  api = KhaiiiApi()\n",
        "\n",
        "  new_question = []\n",
        "  for word in api.analyze(Question): \n",
        "      for morph in word.morphs:\n",
        "          new_question.append(morph.lex)\n",
        "\n",
        "  # '상위 5 Answer :\\n', \n",
        "  return  '상위 5 Answer :', df.iloc[calculate_cos(X, new_question)[:5]]['Answer'].tolist()"
      ],
      "execution_count": 0,
      "outputs": []
    }
  ]
}